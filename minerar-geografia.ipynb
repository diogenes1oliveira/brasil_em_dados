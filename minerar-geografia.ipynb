{
 "cells": [
  {
   "cell_type": "markdown",
   "metadata": {},
   "source": [
    "### Aqui extraímos os dados geográfico separados por setor censitário"
   ]
  },
  {
   "cell_type": "code",
   "execution_count": 13,
   "metadata": {
    "scrolled": true
   },
   "outputs": [
    {
     "data": {
      "text/plain": [
       "<module 'libcenso' from '/home/diogenes/PycharmProjects/libminer/libcenso.py'>"
      ]
     },
     "execution_count": 13,
     "metadata": {},
     "output_type": "execute_result"
    }
   ],
   "source": [
    "import ftplib\n",
    "import re\n",
    "import json\n",
    "import zipfile\n",
    "import sqlite3\n",
    "import geopandas\n",
    "import itertools\n",
    "import operator\n",
    "import sys\n",
    "import shapely.wkt\n",
    "import fiona\n",
    "\n",
    "\n",
    "from tqdm import tqdm_notebook\n",
    "from path import Path\n",
    "\n",
    "data_path = Path().abspath().parent.joinpath('data')\n",
    "data_path\n",
    "\n",
    "sys.path.insert(0, data_path.parent)\n",
    "\n",
    "import libcenso\n",
    "import imp\n",
    "imp.reload(libcenso)"
   ]
  },
  {
   "cell_type": "markdown",
   "metadata": {},
   "source": [
    "#### Primeiro, obter uma lista de todos os zips com os dados geográficos"
   ]
  },
  {
   "cell_type": "code",
   "execution_count": 1,
   "metadata": {
    "collapsed": true
   },
   "outputs": [],
   "source": [
    "host = 'geoftp.ibge.gov.br'\n",
    "url = ('organizacao_do_territorio/malhas_territoriais/'\n",
    "       'malhas_de_setores_censitarios__divisoes_intramunicipais/'\n",
    "       'censo_2010/setores_censitarios_shp')"
   ]
  },
  {
   "cell_type": "code",
   "execution_count": 2,
   "metadata": {},
   "outputs": [
    {
     "name": "stdout",
     "output_type": "stream",
     "text": [
      "ftp://geoftp.ibge.gov.br/organizacao_do_territorio/malhas_territoriais/malhas_de_setores_censitarios__divisoes_intramunicipais/censo_2010/setores_censitarios_shp\n"
     ]
    }
   ],
   "source": [
    "print('ftp://' + host + '/' + url)"
   ]
  },
  {
   "cell_type": "code",
   "execution_count": 18,
   "metadata": {
    "collapsed": true
   },
   "outputs": [],
   "source": [
    "def chamar_com_cache(path, func, *args, **kwargs):\n",
    "    \"\"\"\n",
    "    Tenta obter o valor de retorno da função de um cache no\n",
    "    arquivo indicado em path.\n",
    "    \n",
    "    Caso não consiga, chama a função func(*args, **kwargs), \n",
    "    salvando no arquivo de cache.\n",
    "    \"\"\"\n",
    "    try:\n",
    "        with open(path) as fp:\n",
    "            result = json.load(fp)\n",
    "        print(\"Carregou do cache\")\n",
    "    except (IOError, ValueError):\n",
    "        result = func(*args, **kwargs)\n",
    "        \n",
    "        with open(path, 'w') as fp:\n",
    "            json.dump(result, fp, indent=2)\n",
    "        print(\"Salvou no cache\")\n",
    "    finally:\n",
    "        return result"
   ]
  },
  {
   "cell_type": "code",
   "execution_count": 19,
   "metadata": {
    "collapsed": true
   },
   "outputs": [],
   "source": [
    "def obter_urls_zips_estados(host, url):\n",
    "    \"\"\"\n",
    "    Retorna um dicionário {estado: (url, codigo)} com os zips dos\n",
    "    shapefiles dos dados geográficos.\n",
    "    \"\"\"\n",
    "    zips_estados = {}\n",
    "    ftp = ftplib.FTP(host)\n",
    "    ftp.login()\n",
    "\n",
    "    for estado_dir in ftp.nlst(url):\n",
    "        basename = Path(estado_dir).basename()\n",
    "        \n",
    "        if re.match('''[a-z]{2}$''', basename):\n",
    "            estado = basename.upper()\n",
    "            for fzip in ftp.nlst(estado_dir):\n",
    "                if 'censitario' in Path(fzip).basename():\n",
    "                    zips_estados[estado] = fzip\n",
    "    return zips_estados"
   ]
  },
  {
   "cell_type": "code",
   "execution_count": 20,
   "metadata": {},
   "outputs": [
    {
     "name": "stdout",
     "output_type": "stream",
     "text": [
      "Carregou do cache\n"
     ]
    }
   ],
   "source": [
    "zips_estados = chamar_com_cache(data_path.joinpath('zips_estados.json'),\n",
    "                                obter_urls_zips_estados, host, url)"
   ]
  },
  {
   "cell_type": "markdown",
   "metadata": {},
   "source": [
    "#### Agora, baixar os dados dos setores censitários"
   ]
  },
  {
   "cell_type": "code",
   "execution_count": 21,
   "metadata": {},
   "outputs": [
    {
     "data": {
      "text/plain": [
       "Path('/home/diogenes/PycharmProjects/libminer/data/setores-censitarios')"
      ]
     },
     "execution_count": 21,
     "metadata": {},
     "output_type": "execute_result"
    }
   ],
   "source": [
    "setores_path = data_path.joinpath('setores-censitarios').mkdir_p()\n",
    "setores_path"
   ]
  },
  {
   "cell_type": "code",
   "execution_count": 22,
   "metadata": {},
   "outputs": [
    {
     "data": {},
     "metadata": {},
     "output_type": "display_data"
    },
    {
     "name": "stdout",
     "output_type": "stream",
     "text": [
      "\n"
     ]
    }
   ],
   "source": [
    "ftp = ftplib.FTP(host)\n",
    "ftp.login()\n",
    "\n",
    "for estado, path in tqdm_notebook(zips_estados.items(), desc='Total'):\n",
    "    zip_fname = setores_path.joinpath(estado.lower() + '_setores_censitarios.zip')\n",
    "    \n",
    "    # Já existe\n",
    "    if zip_fname.isfile():\n",
    "        continue\n",
    "    \n",
    "    tamanho = ftp.size(path)\n",
    "    comando = 'RETR ' + path\n",
    "    pbar = tqdm_notebook(total=tamanho, desc=estado)\n",
    "    fp = open(zip_fname, 'wb')\n",
    "    \n",
    "    def write_to_file(block):\n",
    "        fp.write(block)\n",
    "        pbar.update(len(block))\n",
    "    \n",
    "    ftp.retrbinary(comando, write_to_file)\n",
    "    fp.close()\n",
    "    pbar.close()"
   ]
  },
  {
   "cell_type": "markdown",
   "metadata": {},
   "source": [
    "#### Extrair cada um para uma pasta correspondente"
   ]
  },
  {
   "cell_type": "code",
   "execution_count": 23,
   "metadata": {},
   "outputs": [
    {
     "data": {
      "text/plain": [
       "Path('/home/diogenes/PycharmProjects/libminer/data/setores-censitarios')"
      ]
     },
     "execution_count": 23,
     "metadata": {},
     "output_type": "execute_result"
    }
   ],
   "source": [
    "setores_path = data_path.joinpath('setores-censitarios').mkdir_p()\n",
    "setores_path"
   ]
  },
  {
   "cell_type": "code",
   "execution_count": 24,
   "metadata": {},
   "outputs": [
    {
     "data": {},
     "metadata": {},
     "output_type": "display_data"
    },
    {
     "name": "stdout",
     "output_type": "stream",
     "text": [
      "\n"
     ]
    }
   ],
   "source": [
    "zips_fnames = list(setores_path.glob('*_setores_censitarios.zip'))\n",
    "\n",
    "for zip_fname in tqdm_notebook(zips_fnames, desc='Total'):\n",
    "    estado = Path(zip_fname).basename()[:2].upper()\n",
    "    path, _ = Path(zip_fname).splitext()\n",
    "    path.mkdir_p()\n",
    "    \n",
    "    with zipfile.ZipFile(zip_fname) as fp:\n",
    "        fp.extractall(path)"
   ]
  },
  {
   "cell_type": "markdown",
   "metadata": {},
   "source": [
    "# Popular as tabelas"
   ]
  },
  {
   "cell_type": "markdown",
   "metadata": {},
   "source": [
    "#### Tabela de estados"
   ]
  },
  {
   "cell_type": "code",
   "execution_count": 5,
   "metadata": {},
   "outputs": [
    {
     "data": {
      "text/plain": [
       "Path('/home/diogenes/PycharmProjects/libminer/data/setores-censitarios')"
      ]
     },
     "execution_count": 5,
     "metadata": {},
     "output_type": "execute_result"
    }
   ],
   "source": [
    "setores_path = data_path.joinpath('setores-censitarios').mkdir_p()\n",
    "setores_path"
   ]
  },
  {
   "cell_type": "code",
   "execution_count": 7,
   "metadata": {
    "collapsed": true
   },
   "outputs": [],
   "source": [
    "with open(data_path.joinpath('estados_nomes.json')) as fp:\n",
    "    estados_nomes = json.load(fp)"
   ]
  },
  {
   "cell_type": "code",
   "execution_count": 8,
   "metadata": {
    "collapsed": true
   },
   "outputs": [],
   "source": [
    "setores_pastas = list(setores_path.glob('*_setores_censitarios'))\n",
    "shapes_estado = {}\n",
    "\n",
    "for pasta in setores_pastas:\n",
    "    estado = pasta.basename()[:2].upper()\n",
    "    \n",
    "    shp_file = list(pasta.glob('*.shp'))[0]\n",
    "    codigo = int(shp_file.basename()[:2])\n",
    "    \n",
    "    shapes_estado[estado] = codigo, shp_file\n",
    "\n",
    "estados_campos = [(i + 1, estado, codigo, estados_nomes[estado].upper())\n",
    "                  for i, (estado, (codigo, shp_file))\n",
    "                  in enumerate(shapes_estado.items())]"
   ]
  },
  {
   "cell_type": "code",
   "execution_count": 31,
   "metadata": {
    "collapsed": true
   },
   "outputs": [],
   "source": [
    "con = sqlite3.connect(data_path.joinpath('CENSO2010.sqlite'))\n",
    "con.row_factory = sqlite3.Row"
   ]
  },
  {
   "cell_type": "code",
   "execution_count": 32,
   "metadata": {
    "collapsed": true
   },
   "outputs": [],
   "source": [
    "query = 'INSERT INTO estados (id, sigla_estado, codigo_estado, nome_estado) VALUES (?, ?, ?, ?)'\n",
    "con.executemany(query, estados_campos)\n",
    "con.commit()\n",
    "con.close()"
   ]
  },
  {
   "cell_type": "markdown",
   "metadata": {},
   "source": [
    "#### Tabela de municípios"
   ]
  },
  {
   "cell_type": "code",
   "execution_count": 36,
   "metadata": {
    "collapsed": true
   },
   "outputs": [],
   "source": [
    "con.close()"
   ]
  },
  {
   "cell_type": "code",
   "execution_count": 47,
   "metadata": {
    "collapsed": true
   },
   "outputs": [],
   "source": [
    "con = sqlite3.connect(data_path.joinpath('CENSO2010.sqlite'))\n",
    "query = 'INSERT INTO municipios (id_estado, codigo_municipio, nome_municipio) VALUES (?, ?, ?)'"
   ]
  },
  {
   "cell_type": "code",
   "execution_count": 48,
   "metadata": {
    "scrolled": false
   },
   "outputs": [
    {
     "data": {},
     "metadata": {},
     "output_type": "display_data"
    },
    {
     "name": "stdout",
     "output_type": "stream",
     "text": [
      "\n",
      "\n"
     ]
    }
   ],
   "source": [
    "resultados = list(pesquisar_geo(con, 'sigla_estado', 'id_estado'))\n",
    "\n",
    "for info in tqdm_notebook(resultados, desc='Total'):\n",
    "    sigla, id_estado = info['sigla_estado'], info['id_estado']\n",
    "    df = geopandas.read_file(shapes_estado[sigla][1])\n",
    "    \n",
    "    municipios_unique = df.drop_duplicates('CD_GEOCODM')\n",
    "    \n",
    "    codigos = list(map(str, municipios_unique['CD_GEOCODM']))\n",
    "    nomes = list(map(str, municipios_unique['NM_MUNICIP']))\n",
    "    \n",
    "    con.executemany(query, zip(\n",
    "        itertools.repeat(id_estado),\n",
    "        codigos,\n",
    "        nomes\n",
    "    ))"
   ]
  },
  {
   "cell_type": "code",
   "execution_count": 42,
   "metadata": {},
   "outputs": [
    {
     "data": {
      "text/plain": [
       "[{'nome_municipio': 'BRASÍLIA'}]"
      ]
     },
     "execution_count": 42,
     "metadata": {},
     "output_type": "execute_result"
    }
   ],
   "source": [
    "list(pesquisar_geo(con, 'nome_municipio', sigla_estado='DF'))"
   ]
  },
  {
   "cell_type": "code",
   "execution_count": 54,
   "metadata": {
    "collapsed": true
   },
   "outputs": [],
   "source": [
    "con.commit()\n",
    "con.close()"
   ]
  },
  {
   "cell_type": "markdown",
   "metadata": {},
   "source": [
    "#### Tabela de distritos"
   ]
  },
  {
   "cell_type": "code",
   "execution_count": 45,
   "metadata": {
    "collapsed": true
   },
   "outputs": [],
   "source": [
    "con = sqlite3.connect(data_path.joinpath('CENSO2010.sqlite'))\n",
    "query_distrito = ('INSERT INTO distritos (id_estado, id_municipio, codigo_distrito, nome_distrito) '\n",
    "                  'VALUES (?, ?, ?, ?)')"
   ]
  },
  {
   "cell_type": "code",
   "execution_count": 53,
   "metadata": {},
   "outputs": [
    {
     "data": {},
     "metadata": {},
     "output_type": "display_data"
    },
    {
     "data": {},
     "metadata": {},
     "output_type": "display_data"
    },
    {
     "data": {},
     "metadata": {},
     "output_type": "display_data"
    },
    {
     "data": {},
     "metadata": {},
     "output_type": "display_data"
    },
    {
     "data": {},
     "metadata": {},
     "output_type": "display_data"
    },
    {
     "data": {},
     "metadata": {},
     "output_type": "display_data"
    },
    {
     "data": {},
     "metadata": {},
     "output_type": "display_data"
    },
    {
     "data": {},
     "metadata": {},
     "output_type": "display_data"
    },
    {
     "data": {},
     "metadata": {},
     "output_type": "display_data"
    },
    {
     "data": {},
     "metadata": {},
     "output_type": "display_data"
    },
    {
     "data": {},
     "metadata": {},
     "output_type": "display_data"
    },
    {
     "data": {},
     "metadata": {},
     "output_type": "display_data"
    },
    {
     "data": {},
     "metadata": {},
     "output_type": "display_data"
    },
    {
     "data": {},
     "metadata": {},
     "output_type": "display_data"
    },
    {
     "data": {},
     "metadata": {},
     "output_type": "display_data"
    },
    {
     "data": {},
     "metadata": {},
     "output_type": "display_data"
    },
    {
     "data": {},
     "metadata": {},
     "output_type": "display_data"
    },
    {
     "data": {},
     "metadata": {},
     "output_type": "display_data"
    },
    {
     "data": {},
     "metadata": {},
     "output_type": "display_data"
    },
    {
     "data": {},
     "metadata": {},
     "output_type": "display_data"
    },
    {
     "data": {},
     "metadata": {},
     "output_type": "display_data"
    },
    {
     "data": {},
     "metadata": {},
     "output_type": "display_data"
    },
    {
     "data": {},
     "metadata": {},
     "output_type": "display_data"
    },
    {
     "data": {},
     "metadata": {},
     "output_type": "display_data"
    },
    {
     "data": {},
     "metadata": {},
     "output_type": "display_data"
    },
    {
     "data": {},
     "metadata": {},
     "output_type": "display_data"
    },
    {
     "data": {},
     "metadata": {},
     "output_type": "display_data"
    },
    {
     "data": {},
     "metadata": {},
     "output_type": "display_data"
    },
    {
     "name": "stdout",
     "output_type": "stream",
     "text": [
      "\n"
     ]
    }
   ],
   "source": [
    "resultados_estado = list(pesquisar_geo(con, 'sigla_estado', 'id_estado'))\n",
    "\n",
    "for info in tqdm_notebook(resultados_estado, desc='Total'):\n",
    "    sigla, id_estado = info['sigla_estado'], info['id_estado']\n",
    "    df = geopandas.read_file(shapes_estado[sigla][1])\n",
    "    \n",
    "    resultados_municipio = list(pesquisar_geo(con, 'id_municipio', 'codigo_municipio',\n",
    "                                             id_estado=id_estado))\n",
    "    \n",
    "    for mun in tqdm_notebook(resultados_municipio, desc=sigla):\n",
    "        mun_df = df.loc[df['CD_GEOCODM'] == mun['codigo_municipio']]\n",
    "        distritos_unique = mun_df.drop_duplicates('CD_GEOCODD')\n",
    "        \n",
    "        codigos = list(map(str, distritos_unique['CD_GEOCODD']))\n",
    "        nomes = list(map(str, distritos_unique['NM_DISTRIT']))\n",
    "        \n",
    "        con.executemany(query_distrito, zip(\n",
    "            itertools.repeat(id_estado),\n",
    "            itertools.repeat(mun['id_municipio']),\n",
    "            codigos,\n",
    "            nomes\n",
    "        ))\n",
    "        "
   ]
  },
  {
   "cell_type": "markdown",
   "metadata": {},
   "source": [
    "#### Tabela de subdistritos"
   ]
  },
  {
   "cell_type": "code",
   "execution_count": 12,
   "metadata": {
    "collapsed": true
   },
   "outputs": [],
   "source": [
    "con = sqlite3.connect(data_path.joinpath('CENSO2010.sqlite'))\n",
    "query_subdistrito = ('INSERT INTO subdistritos '\n",
    "                     '(id_estado, id_municipio, id_distrito, codigo_subdistrito, nome_subdistrito) '\n",
    "                     'VALUES (?, ?, ?, ?, ?)')"
   ]
  },
  {
   "cell_type": "code",
   "execution_count": 1,
   "metadata": {
    "collapsed": true
   },
   "outputs": [],
   "source": [
    "import logging"
   ]
  },
  {
   "cell_type": "code",
   "execution_count": 2,
   "metadata": {
    "collapsed": true
   },
   "outputs": [],
   "source": [
    "?logging.getLogger"
   ]
  },
  {
   "cell_type": "code",
   "execution_count": 14,
   "metadata": {},
   "outputs": [
    {
     "data": {},
     "metadata": {},
     "output_type": "display_data"
    },
    {
     "data": {},
     "metadata": {},
     "output_type": "display_data"
    },
    {
     "name": "stdout",
     "output_type": "stream",
     "text": [
      "\n"
     ]
    },
    {
     "data": {},
     "metadata": {},
     "output_type": "display_data"
    },
    {
     "data": {},
     "metadata": {},
     "output_type": "display_data"
    },
    {
     "data": {},
     "metadata": {},
     "output_type": "display_data"
    },
    {
     "data": {},
     "metadata": {},
     "output_type": "display_data"
    },
    {
     "data": {},
     "metadata": {},
     "output_type": "display_data"
    },
    {
     "data": {},
     "metadata": {},
     "output_type": "display_data"
    },
    {
     "data": {},
     "metadata": {},
     "output_type": "display_data"
    },
    {
     "data": {},
     "metadata": {},
     "output_type": "display_data"
    },
    {
     "data": {},
     "metadata": {},
     "output_type": "display_data"
    },
    {
     "data": {},
     "metadata": {},
     "output_type": "display_data"
    },
    {
     "data": {},
     "metadata": {},
     "output_type": "display_data"
    },
    {
     "data": {},
     "metadata": {},
     "output_type": "display_data"
    },
    {
     "data": {},
     "metadata": {},
     "output_type": "display_data"
    },
    {
     "data": {},
     "metadata": {},
     "output_type": "display_data"
    },
    {
     "data": {},
     "metadata": {},
     "output_type": "display_data"
    },
    {
     "data": {},
     "metadata": {},
     "output_type": "display_data"
    },
    {
     "data": {},
     "metadata": {},
     "output_type": "display_data"
    },
    {
     "data": {},
     "metadata": {},
     "output_type": "display_data"
    },
    {
     "data": {},
     "metadata": {},
     "output_type": "display_data"
    },
    {
     "data": {},
     "metadata": {},
     "output_type": "display_data"
    },
    {
     "data": {},
     "metadata": {},
     "output_type": "display_data"
    },
    {
     "data": {},
     "metadata": {},
     "output_type": "display_data"
    },
    {
     "data": {},
     "metadata": {},
     "output_type": "display_data"
    },
    {
     "data": {},
     "metadata": {},
     "output_type": "display_data"
    },
    {
     "data": {},
     "metadata": {},
     "output_type": "display_data"
    },
    {
     "data": {},
     "metadata": {},
     "output_type": "display_data"
    },
    {
     "name": "stdout",
     "output_type": "stream",
     "text": [
      "\n"
     ]
    }
   ],
   "source": [
    "resultados_estado = list(pesquisar_geo(con, 'sigla_estado', 'id_estado'))\n",
    "\n",
    "for info in tqdm_notebook(resultados_estado, desc='Total'):\n",
    "    sigla, id_estado = info['sigla_estado'], info['id_estado']\n",
    "    df = geopandas.read_file(shapes_estado[sigla][1])\n",
    "    \n",
    "    resultados_distrito = list(pesquisar_geo(con, 'id_municipio', 'id_distrito', 'codigo_distrito',\n",
    "                                             id_estado=id_estado))\n",
    "    \n",
    "    for dis in tqdm_notebook(resultados_distrito, desc=sigla):\n",
    "        dis_df = df.loc[df['CD_GEOCODD'] == dis['codigo_distrito']]\n",
    "        subdistritos_unique = dis_df.drop_duplicates('CD_GEOCODS')\n",
    "        \n",
    "        codigos = list(map(str, subdistritos_unique['CD_GEOCODS']))\n",
    "        nomes = list(map(str, subdistritos_unique['NM_SUBDIST']))\n",
    "        \n",
    "        con.executemany(query_subdistrito, zip(\n",
    "            itertools.repeat(id_estado),\n",
    "            itertools.repeat(dis['id_municipio']),\n",
    "            itertools.repeat(dis['id_distrito']),\n",
    "            codigos,\n",
    "            nomes\n",
    "        ))\n",
    "        "
   ]
  },
  {
   "cell_type": "code",
   "execution_count": 15,
   "metadata": {
    "collapsed": true
   },
   "outputs": [],
   "source": [
    "con.commit()\n",
    "con.close()"
   ]
  },
  {
   "cell_type": "markdown",
   "metadata": {},
   "source": [
    "#### Tabela de setores censitários"
   ]
  },
  {
   "cell_type": "code",
   "execution_count": 35,
   "metadata": {
    "collapsed": true
   },
   "outputs": [],
   "source": [
    "con.close()\n",
    "del con"
   ]
  },
  {
   "cell_type": "code",
   "execution_count": 36,
   "metadata": {
    "collapsed": true
   },
   "outputs": [],
   "source": [
    "con = sqlite3.connect(data_path.joinpath('CENSO2010.sqlite'))\n",
    "query_setores = '''\n",
    "    INSERT INTO\n",
    "        setores\n",
    "    (id_estado, id_municipio, id_distrito, id_subdistrito, codigo_setor,\n",
    "        bairro, poligono, area, lng_min, lat_min, lng_max, lat_max, centroide)\n",
    "    VALUES\n",
    "        (?, ?, ?, ?, ?, ?, ?, ?, ?, ?, ?, ?, ?)\n",
    "'''"
   ]
  },
  {
   "cell_type": "code",
   "execution_count": 38,
   "metadata": {},
   "outputs": [
    {
     "data": {},
     "metadata": {},
     "output_type": "display_data"
    },
    {
     "data": {},
     "metadata": {},
     "output_type": "display_data"
    },
    {
     "data": {},
     "metadata": {},
     "output_type": "display_data"
    },
    {
     "data": {},
     "metadata": {},
     "output_type": "display_data"
    },
    {
     "data": {},
     "metadata": {},
     "output_type": "display_data"
    },
    {
     "data": {},
     "metadata": {},
     "output_type": "display_data"
    },
    {
     "data": {},
     "metadata": {},
     "output_type": "display_data"
    },
    {
     "data": {},
     "metadata": {},
     "output_type": "display_data"
    },
    {
     "data": {},
     "metadata": {},
     "output_type": "display_data"
    },
    {
     "data": {},
     "metadata": {},
     "output_type": "display_data"
    },
    {
     "data": {},
     "metadata": {},
     "output_type": "display_data"
    },
    {
     "data": {},
     "metadata": {},
     "output_type": "display_data"
    },
    {
     "data": {},
     "metadata": {},
     "output_type": "display_data"
    },
    {
     "data": {},
     "metadata": {},
     "output_type": "display_data"
    },
    {
     "data": {},
     "metadata": {},
     "output_type": "display_data"
    },
    {
     "data": {},
     "metadata": {},
     "output_type": "display_data"
    },
    {
     "data": {},
     "metadata": {},
     "output_type": "display_data"
    },
    {
     "data": {},
     "metadata": {},
     "output_type": "display_data"
    },
    {
     "data": {},
     "metadata": {},
     "output_type": "display_data"
    },
    {
     "data": {},
     "metadata": {},
     "output_type": "display_data"
    },
    {
     "data": {},
     "metadata": {},
     "output_type": "display_data"
    },
    {
     "data": {},
     "metadata": {},
     "output_type": "display_data"
    },
    {
     "data": {},
     "metadata": {},
     "output_type": "display_data"
    },
    {
     "data": {},
     "metadata": {},
     "output_type": "display_data"
    },
    {
     "data": {},
     "metadata": {},
     "output_type": "display_data"
    },
    {
     "data": {},
     "metadata": {},
     "output_type": "display_data"
    },
    {
     "data": {},
     "metadata": {},
     "output_type": "display_data"
    },
    {
     "data": {},
     "metadata": {},
     "output_type": "display_data"
    },
    {
     "name": "stdout",
     "output_type": "stream",
     "text": [
      "\n"
     ]
    }
   ],
   "source": [
    "resultados_estado = list(pesquisar_geo(con, 'sigla_estado', 'id_estado'))\n",
    "\n",
    "for info in tqdm_notebook(resultados_estado, desc='Total'):\n",
    "    sigla, id_estado = info['sigla_estado'], info['id_estado']\n",
    "        \n",
    "    df = geopandas.read_file(shapes_estado[sigla][1])\n",
    "    \n",
    "    resultados_subdistrito = list(pesquisar_geo(con,\n",
    "                                             'id_municipio', 'id_distrito', 'id_subdistrito', 'codigo_subdistrito',\n",
    "                                             id_estado=id_estado))\n",
    "    \n",
    "    for subdis in tqdm_notebook(resultados_subdistrito, desc=sigla):\n",
    "        subdis_df = df.loc[df['CD_GEOCODS'] == subdis['codigo_subdistrito']]\n",
    "        codigos = list(map(str, subdis_df['CD_GEOCODI']))\n",
    "        bairros = list(map(str, subdis_df['NM_BAIRRO']))\n",
    "        poligonos = list(map(shapely.wkt.dumps, subdis_df.geometry))\n",
    "        centroides = list(map(shapely.wkt.dumps, subdis_df.geometry.centroid))\n",
    "        \n",
    "        bounds_f = lambda p, i: list(map(float, p.bounds))[i]\n",
    "        lng_min = list(map(lambda p: bounds_f(p, 0), subdis_df.geometry))\n",
    "        lat_min = list(map(lambda p: bounds_f(p, 1), subdis_df.geometry))\n",
    "        lng_max = list(map(lambda p: bounds_f(p, 2), subdis_df.geometry))\n",
    "        lat_max = list(map(lambda p: bounds_f(p, 3), subdis_df.geometry))\n",
    "        \n",
    "        subdis_df.crs = fiona.crs.from_epsg(4674)\n",
    "        converted = subdis_df.to_crs(epsg=4087)\n",
    "        areas = list(map(float, converted.geometry.area))\n",
    "        \n",
    "        con.executemany(query_setores, zip(\n",
    "            itertools.repeat(id_estado),\n",
    "            itertools.repeat(subdis['id_municipio']),\n",
    "            itertools.repeat(subdis['id_distrito']),\n",
    "            itertools.repeat(subdis['id_subdistrito']),\n",
    "            codigos,\n",
    "            bairros,\n",
    "            poligonos,\n",
    "            areas,\n",
    "            lng_min,\n",
    "            lat_min,\n",
    "            lng_max,\n",
    "            lat_max,\n",
    "            centroides\n",
    "        ))"
   ]
  },
  {
   "cell_type": "code",
   "execution_count": 39,
   "metadata": {
    "collapsed": true
   },
   "outputs": [],
   "source": [
    "con.commit()\n",
    "con.close()\n",
    "del con"
   ]
  },
  {
   "cell_type": "markdown",
   "metadata": {},
   "source": [
    "#### Testando som 1 2 3"
   ]
  },
  {
   "cell_type": "code",
   "execution_count": 36,
   "metadata": {
    "collapsed": true
   },
   "outputs": [],
   "source": [
    "con.close()"
   ]
  },
  {
   "cell_type": "code",
   "execution_count": 14,
   "metadata": {
    "collapsed": true
   },
   "outputs": [],
   "source": [
    "path = data_path.joinpath('CENSO2010.sqlite')\n",
    "censo = libcenso.CensoBD()"
   ]
  },
  {
   "cell_type": "code",
   "execution_count": 15,
   "metadata": {
    "collapsed": true
   },
   "outputs": [],
   "source": [
    "censo.conectar(path)"
   ]
  },
  {
   "cell_type": "code",
   "execution_count": 22,
   "metadata": {},
   "outputs": [
    {
     "data": {
      "text/plain": [
       "[{'nome_estado': 'RIO GRANDE DO SUL', 'nome_municipio': 'ALEGRETE'}]"
      ]
     },
     "execution_count": 22,
     "metadata": {},
     "output_type": "execute_result"
    }
   ],
   "source": [
    "list(censo.recuperar('nome_municipio', 'nome_estado', id_subdistrito=10909))"
   ]
  },
  {
   "cell_type": "code",
   "execution_count": null,
   "metadata": {
    "collapsed": true
   },
   "outputs": [],
   "source": []
  }
 ],
 "metadata": {
  "celltoolbar": "Raw Cell Format",
  "kernelspec": {
   "display_name": "Python 3",
   "language": "python",
   "name": "python3"
  },
  "language_info": {
   "codemirror_mode": {
    "name": "ipython",
    "version": 3
   },
   "file_extension": ".py",
   "mimetype": "text/x-python",
   "name": "python",
   "nbconvert_exporter": "python",
   "pygments_lexer": "ipython3",
   "version": "3.6.5"
  }
 },
 "nbformat": 4,
 "nbformat_minor": 1
}
