{
 "cells": [
  {
   "cell_type": "code",
   "execution_count": 1,
   "metadata": {},
   "outputs": [],
   "source": [
    "from pathlib import Path\n",
    "import sys\n",
    "\n",
    "data_path = Path().joinpath('data')  # You can switch to another base path here\n",
    "data_path.mkdir(exist_ok=True, parents=True)"
   ]
  },
  {
   "cell_type": "markdown",
   "metadata": {},
   "source": [
    "#### Hierarchy"
   ]
  },
  {
   "cell_type": "code",
   "execution_count": 2,
   "metadata": {},
   "outputs": [],
   "source": [
    "LEVELS = {\n",
    "    'regioes': 0,\n",
    "    'estados': 1,\n",
    "    'municipios': 2,\n",
    "    'distritos': 3,\n",
    "    'setores': 4\n",
    "}"
   ]
  },
  {
   "cell_type": "markdown",
   "metadata": {},
   "source": [
    "#### Initializing the database"
   ]
  },
  {
   "cell_type": "code",
   "execution_count": 4,
   "metadata": {},
   "outputs": [],
   "source": [
    "import sqlite3\n",
    "\n",
    "sqlite_path = data_path / 'censo2010.sqlite'\n",
    "con = sqlite3.connect(str(sqlite_path))"
   ]
  },
  {
   "cell_type": "code",
   "execution_count": 5,
   "metadata": {},
   "outputs": [
    {
     "data": {
      "text/plain": [
       "<sqlite3.Cursor at 0x7fa94c21aea0>"
      ]
     },
     "execution_count": 5,
     "metadata": {},
     "output_type": "execute_result"
    }
   ],
   "source": [
    "con.execute('''\n",
    "    CREATE TABLE IF NOT EXISTS geopart (\n",
    "        id INTEGER NOT NULL PRIMARY KEY AUTOINCREMENT,\n",
    "        id_parent INTEGER,\n",
    "        level INTEGER NOT NULL DEFAULT 0,\n",
    "        code TEXT NOT NULL DEFAULT '',\n",
    "        name TEXT NOT NULL DEFAULT '',\n",
    "        abbr TEXT NOT NULL DEFAULT '',\n",
    "        lat REAL DEFAULT 0.0,\n",
    "        lng REAL DEFAULT 0.0,\n",
    "        lat_min REAL DEFAULT 0.0,\n",
    "        lat_max REAL DEFAULT 0.0,\n",
    "        lng_min REAL DEFAULT 0.0,\n",
    "        lng_max REAL DEFAULT 0.0,\n",
    "        area REAL DEFAULT 0.0,\n",
    "        polygon TEXT NOT NULL DEFAULT '',\n",
    "        FOREIGN KEY (id_parent) REFERENCES geopart(id)\n",
    "    )\n",
    "''')"
   ]
  },
  {
   "cell_type": "markdown",
   "metadata": {},
   "source": [
    "#### Seeding initial data"
   ]
  },
  {
   "cell_type": "code",
   "execution_count": null,
   "metadata": {},
   "outputs": [],
   "source": [
    "REGIONS = ('Centro-Oeste', 'Sul', 'Nordeste', 'Norte', 'Sudeste')"
   ]
  },
  {
   "cell_type": "code",
   "execution_count": null,
   "metadata": {},
   "outputs": [],
   "source": [
    "for region in REGIONS:\n",
    "    con.executemany('''\n",
    "        INSERT INTO geopart (level, name) VALUES (?, ?)\n",
    "    ''', [[LEVELS['regioes'], region]])"
   ]
  },
  {
   "cell_type": "code",
   "execution_count": null,
   "metadata": {},
   "outputs": [],
   "source": [
    "con.commit()"
   ]
  },
  {
   "cell_type": "code",
   "execution_count": 6,
   "metadata": {},
   "outputs": [],
   "source": [
    "STATES = {\n",
    "    'Acre (AC)': 'Norte',\n",
    "    'Alagoas (AL)': 'Nordeste',\n",
    "    'Amapá (AP)': 'Norte',\n",
    "    'Amazonas (AM)': 'Norte',\n",
    "    'Bahia (BA)': 'Nordeste',\n",
    "    'Ceará (CE)': 'Nordeste',\n",
    "    'Distrito Federal (DF)': 'Centro-Oeste',\n",
    "    'Espírito Santo (ES)': 'Sudeste',\n",
    "    'Goiás (GO)': 'Centro-Oeste',\n",
    "    'Maranhão (MA)': 'Nordeste',\n",
    "    'Mato Grosso (MT)': 'Centro-Oeste',\n",
    "    'Mato Grosso do Sul (MS)': 'Centro-Oeste',\n",
    "    'Minas Gerais (MG)': 'Sudeste',\n",
    "    'Pará (PA)': 'Norte',\n",
    "    'Paraíba (PB)': 'Nordeste',\n",
    "    'Paraná (PR)': 'Sul',\n",
    "    'Pernambuco (PE)': 'Nordeste',\n",
    "    'Piauí (PI)': 'Nordeste',\n",
    "    'Rio de Janeiro (RJ)': 'Sudeste',\n",
    "    'Rio Grande do Norte (RN)': 'Nordeste',\n",
    "    'Rio Grande do Sul (RS)': 'Sul',\n",
    "    'Rondônia (RO)': 'Norte',\n",
    "    'Roraima (RR)': 'Norte',\n",
    "    'Santa Catarina (SC)': 'Sul',\n",
    "    'São Paulo (SP)': 'Sudeste',\n",
    "    'Sergipe (SE)': 'Nordeste',\n",
    "    'Tocantins (TO)': 'Norte'\n",
    "}"
   ]
  },
  {
   "cell_type": "code",
   "execution_count": 7,
   "metadata": {},
   "outputs": [],
   "source": [
    "sql_rows = []\n",
    "\n",
    "for state_info, region in STATES.items():\n",
    "    name, abbr = re.match(r'(.*?) \\(([A-Z]{2})\\)', state_info).groups()\n",
    "    sql_rows += [{'region': region, 'parent_level': LEVELS['regioes'],\n",
    "                  'level': LEVELS['estados'], 'name': name, 'abbr': abbr}]"
   ]
  },
  {
   "cell_type": "code",
   "execution_count": 8,
   "metadata": {},
   "outputs": [
    {
     "data": {
      "text/plain": [
       "<sqlite3.Cursor at 0x7fa94c21af10>"
      ]
     },
     "execution_count": 8,
     "metadata": {},
     "output_type": "execute_result"
    }
   ],
   "source": [
    "con.executemany('''\n",
    "    INSERT INTO geopart\n",
    "        (id_parent, level, name, abbr)\n",
    "    SELECT\n",
    "        id, :level, :name, :abbr\n",
    "    FROM geopart\n",
    "    WHERE\n",
    "        name = :region AND level = :parent_level\n",
    "''', sql_rows)\n",
    "con.commit()"
   ]
  },
  {
   "cell_type": "markdown",
   "metadata": {},
   "source": [
    "#### URLs for the SHP files in IBGE's FTP server"
   ]
  },
  {
   "cell_type": "code",
   "execution_count": 57,
   "metadata": {},
   "outputs": [
    {
     "name": "stderr",
     "output_type": "stream",
     "text": [
      "/home/diogenes/programs/development/pyenv/versions/3.6.5/lib/python3.6/site-packages/ipykernel_launcher.py:12: DeprecationWarning: `use_list_a_option` will default to `False` in ftputil 4.x.x\n",
      "  if sys.path[0] == '':\n"
     ]
    }
   ],
   "source": [
    "import contextlib\n",
    "import ftputil\n",
    "import re\n",
    "\n",
    "HOST = 'geoftp.ibge.gov.br'\n",
    "URL = ('organizacao_do_territorio/malhas_territoriais/'\n",
    "       'malhas_de_setores_censitarios__divisoes_intramunicipais/'\n",
    "       'censo_2010/setores_censitarios_shp')\n",
    "\n",
    "STATES_ZIP_FILES = []\n",
    "\n",
    "with ftputil.FTPHost(HOST, user='anonymous') as host:\n",
    "    \n",
    "    for path in host.listdir(URL):\n",
    "        path = Path(URL) / path\n",
    "        abbr = path.name.upper()\n",
    "        \n",
    "        if not re.match('^[A-Z]{2}$', abbr):\n",
    "            continue\n",
    "        \n",
    "        for fzip in host.listdir(str(path)):\n",
    "            fzip = path / fzip\n",
    "            levels = [level for name, level in LEVELS.items() if name in fzip.name]\n",
    "            if not levels:\n",
    "                continue\n",
    "            STATES_ZIP_FILES.append([abbr, levels[0], str(fzip), host.path.getsize(str(fzip))])"
   ]
  },
  {
   "cell_type": "markdown",
   "metadata": {},
   "source": [
    "#### Effectively downloading the ZIP files"
   ]
  },
  {
   "cell_type": "code",
   "execution_count": 60,
   "metadata": {},
   "outputs": [
    {
     "data": {
      "application/vnd.jupyter.widget-view+json": {
       "model_id": "d08c5eeb2a804293b99c2c30916f39f4",
       "version_major": 2,
       "version_minor": 0
      },
      "text/plain": [
       "HBox(children=(IntProgress(value=0, max=608620781), HTML(value='')))"
      ]
     },
     "metadata": {},
     "output_type": "display_data"
    },
    {
     "name": "stderr",
     "output_type": "stream",
     "text": [
      "/home/diogenes/programs/development/pyenv/versions/3.6.5/lib/python3.6/site-packages/ipykernel_launcher.py:4: DeprecationWarning: `use_list_a_option` will default to `False` in ftputil 4.x.x\n",
      "  after removing the cwd from sys.path.\n"
     ]
    },
    {
     "name": "stdout",
     "output_type": "stream",
     "text": [
      "\n"
     ]
    }
   ],
   "source": [
    "from tqdm import tqdm_notebook\n",
    "\n",
    "with closing(tqdm_notebook(total=sum(s[-1] for s in STATES_ZIP_FILES))) as pbar:\n",
    "    with ftputil.FTPHost(HOST, user='anonymous') as host:\n",
    "        for abbr, level, url, size in STATES_ZIP_FILES:\n",
    "            dirpath = data_path / abbr\n",
    "            dirpath.mkdir(exist_ok=True, parents=True)\n",
    "            output = str(dirpath / '{}.zip'.format(level))\n",
    "            host.download(url, output)\n",
    "            pbar.update(size)"
   ]
  },
  {
   "cell_type": "code",
   "execution_count": null,
   "metadata": {},
   "outputs": [],
   "source": []
  }
 ],
 "metadata": {
  "kernelspec": {
   "display_name": "Python 3",
   "language": "python",
   "name": "python3"
  },
  "language_info": {
   "codemirror_mode": {
    "name": "ipython",
    "version": 3
   },
   "file_extension": ".py",
   "mimetype": "text/x-python",
   "name": "python",
   "nbconvert_exporter": "python",
   "pygments_lexer": "ipython3",
   "version": "3.6.5"
  }
 },
 "nbformat": 4,
 "nbformat_minor": 2
}
