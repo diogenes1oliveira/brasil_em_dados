{
 "cells": [
  {
   "cell_type": "code",
   "execution_count": 56,
   "metadata": {
    "scrolled": true
   },
   "outputs": [],
   "source": [
    "from path import Path\n",
    "import sys\n",
    "\n",
    "data_path = Path().joinpath('data')  # You can switch to another base path here"
   ]
  },
  {
   "cell_type": "code",
   "execution_count": 53,
   "metadata": {},
   "outputs": [],
   "source": [
    "HOST = 'geoftp.ibge.gov.br'\n",
    "URL = ('organizacao_do_territorio/malhas_territoriais/'\n",
    "       'malhas_de_setores_censitarios__divisoes_intramunicipais/'\n",
    "       'censo_2010/setores_censitarios_shp')\n",
    "LEVELS = {\n",
    "    'regioes': 0,\n",
    "    'estados': 1,\n",
    "    'municipios': 2,\n",
    "    'distritos': 3,\n",
    "    'setores': 4\n",
    "}"
   ]
  },
  {
   "cell_type": "markdown",
   "metadata": {},
   "source": [
    "#### URLs for the SHP files in IBGE's FTP server"
   ]
  },
  {
   "cell_type": "code",
   "execution_count": 54,
   "metadata": {},
   "outputs": [],
   "source": [
    "import contextlib\n",
    "import ftplib\n",
    "import re\n",
    "\n",
    "def iter_shps_states(host, url):\n",
    "    \"\"\"\n",
    "    Generates tuples [state, level, url] for the SHP files of Brazilian states\n",
    "    \"\"\"\n",
    "    ftp = ftplib.FTP(host)\n",
    "    ftp.login()\n",
    "    \n",
    "    with contextlib.closing(ftp):\n",
    "        for state_path in ftp.nlst(url):\n",
    "            basename = Path(state_path).basename()\n",
    "\n",
    "            if not re.match('''[a-z]{2}$''', basename):\n",
    "                continue\n",
    "            \n",
    "            state_abbr = basename.upper()\n",
    "            for fzip in ftp.nlst(state_path):\n",
    "                zip_basename = Path(fzip).basename()\n",
    "                level = [level for name, level in LEVELS.items() if name in zip_basename][0]\n",
    "                yield state_abbr, level, 'ftp://{host}/{fzip}'.format(host=host,fzip=fzip)\n",
    "\n",
    "SHPS_STATES = list(iter_shps_states(HOST, URL))"
   ]
  },
  {
   "cell_type": "markdown",
   "metadata": {},
   "source": [
    "#### Initializing the database"
   ]
  },
  {
   "cell_type": "code",
   "execution_count": 11,
   "metadata": {},
   "outputs": [],
   "source": [
    "import sqlite3\n",
    "\n",
    "con = sqlite3.connect(data_path.joinpath('dados.db'))\n",
    "cur = con.cursor()"
   ]
  },
  {
   "cell_type": "code",
   "execution_count": null,
   "metadata": {},
   "outputs": [],
   "source": []
  },
  {
   "cell_type": "code",
   "execution_count": 3,
   "metadata": {
    "collapsed": true
   },
   "outputs": [],
   "source": [
    "from jfp_backend.db import schema as db_schema\n",
    "import imp\n",
    "imp.reload(db_schema)\n",
    "\n",
    "db_schema.default_engine = (\n",
    "    'mysql+mysqlconnector://diogenes:123456'\n",
    "    '@localhost:3306/generic'\n",
    ")\n",
    "SessionMaker, engine = db_schema.get_db_session()\n",
    "con = engine.connect()"
   ]
  },
  {
   "cell_type": "markdown",
   "metadata": {},
   "source": [
    "## Inserir as regiões"
   ]
  },
  {
   "cell_type": "code",
   "execution_count": 4,
   "metadata": {},
   "outputs": [
    {
     "data": {
      "text/plain": [
       "<sqlalchemy.engine.result.ResultProxy at 0x7f951f36a198>"
      ]
     },
     "execution_count": 4,
     "metadata": {},
     "output_type": "execute_result"
    }
   ],
   "source": [
    "con.execute(db_schema.Regiao.__table__.insert(),\n",
    "           [{'nome': nome} for nome in ('Centro-Oeste', 'Sul', 'Nordeste', 'Norte', 'Sudeste')])"
   ]
  },
  {
   "cell_type": "code",
   "execution_count": 5,
   "metadata": {
    "collapsed": true
   },
   "outputs": [],
   "source": [
    "session = SessionMaker()\n",
    "regioes = {regiao.nome: regiao.id for regiao in session.query(db_schema.Regiao)}"
   ]
  },
  {
   "cell_type": "code",
   "execution_count": 6,
   "metadata": {
    "scrolled": true
   },
   "outputs": [
    {
     "data": {
      "text/plain": [
       "{'Centro-Oeste': 6, 'Nordeste': 8, 'Norte': 9, 'Sudeste': 10, 'Sul': 7}"
      ]
     },
     "execution_count": 6,
     "metadata": {},
     "output_type": "execute_result"
    }
   ],
   "source": [
    "regioes"
   ]
  },
  {
   "cell_type": "markdown",
   "metadata": {},
   "source": [
    "## Carregar os códigos de todas as geometrias"
   ]
  },
  {
   "cell_type": "code",
   "execution_count": 7,
   "metadata": {
    "collapsed": true
   },
   "outputs": [],
   "source": [
    "from shapely.geometry.point import Point\n",
    "from shapely.wkt import dumps as wkt_dumps, loads as wkt_loads"
   ]
  },
  {
   "cell_type": "code",
   "execution_count": 9,
   "metadata": {
    "collapsed": true
   },
   "outputs": [],
   "source": [
    "# Inserir a geometria inexistente\n",
    "\n",
    "p = Point()\n",
    "geo = db_schema.Geometria(codigo='codigo_inexistente', poligono=wkt_dumps(p))\n",
    "session = SessionMaker()\n",
    "session.add(geo)\n",
    "session.commit()"
   ]
  },
  {
   "cell_type": "code",
   "execution_count": 8,
   "metadata": {
    "collapsed": true
   },
   "outputs": [],
   "source": [
    "session = SessionMaker()\n",
    "geo_codes = {\n",
    "    g[0]: g[1]\n",
    "    for g in session\n",
    "             .query(db_schema.Geometria)\n",
    "             .with_entities(db_schema.Geometria.codigo, db_schema.Geometria.id)\n",
    "}"
   ]
  },
  {
   "cell_type": "code",
   "execution_count": 9,
   "metadata": {
    "collapsed": true
   },
   "outputs": [],
   "source": [
    "geometria_invalida = [\n",
    "    {'id': geo[0], 'codigo': geo[1]}\n",
    "    for geo in session\n",
    "    .query(db_schema.Geometria)\n",
    "    .filter(db_schema.Geometria.codigo == 'codigo_inexistente')\n",
    "    .with_entities(db_schema.Geometria.id, db_schema.Geometria.codigo)\n",
    "]"
   ]
  },
  {
   "cell_type": "code",
   "execution_count": 10,
   "metadata": {},
   "outputs": [
    {
     "data": {
      "text/plain": [
       "[{'codigo': 'codigo_inexistente', 'id': 342563}]"
      ]
     },
     "execution_count": 10,
     "metadata": {},
     "output_type": "execute_result"
    }
   ],
   "source": [
    "geometria_invalida"
   ]
  },
  {
   "cell_type": "code",
   "execution_count": 11,
   "metadata": {},
   "outputs": [
    {
     "data": {
      "text/plain": [
       "342563"
      ]
     },
     "execution_count": 11,
     "metadata": {},
     "output_type": "execute_result"
    }
   ],
   "source": [
    "id_geometria_invalida = geometria_invalida[0]['id']\n",
    "id_geometria_invalida"
   ]
  },
  {
   "cell_type": "markdown",
   "metadata": {},
   "source": [
    "## Inserir os estados"
   ]
  },
  {
   "cell_type": "code",
   "execution_count": 14,
   "metadata": {},
   "outputs": [
    {
     "data": {
      "text/html": [
       "<div>\n",
       "<style>\n",
       "    .dataframe thead tr:only-child th {\n",
       "        text-align: right;\n",
       "    }\n",
       "\n",
       "    .dataframe thead th {\n",
       "        text-align: left;\n",
       "    }\n",
       "\n",
       "    .dataframe tbody tr th {\n",
       "        vertical-align: top;\n",
       "    }\n",
       "</style>\n",
       "<table border=\"1\" class=\"dataframe\">\n",
       "  <thead>\n",
       "    <tr style=\"text-align: right;\">\n",
       "      <th></th>\n",
       "      <th>nome</th>\n",
       "      <th>sigla</th>\n",
       "      <th>regiao</th>\n",
       "      <th>codigo</th>\n",
       "      <th>id_regiao</th>\n",
       "    </tr>\n",
       "  </thead>\n",
       "  <tbody>\n",
       "    <tr>\n",
       "      <th>0</th>\n",
       "      <td>Acre</td>\n",
       "      <td>AC</td>\n",
       "      <td>Norte</td>\n",
       "      <td>0</td>\n",
       "      <td>0</td>\n",
       "    </tr>\n",
       "    <tr>\n",
       "      <th>1</th>\n",
       "      <td>Alagoas</td>\n",
       "      <td>AL</td>\n",
       "      <td>Nordeste</td>\n",
       "      <td>0</td>\n",
       "      <td>0</td>\n",
       "    </tr>\n",
       "    <tr>\n",
       "      <th>2</th>\n",
       "      <td>Amapá</td>\n",
       "      <td>AP</td>\n",
       "      <td>Norte</td>\n",
       "      <td>0</td>\n",
       "      <td>0</td>\n",
       "    </tr>\n",
       "    <tr>\n",
       "      <th>3</th>\n",
       "      <td>Amazonas</td>\n",
       "      <td>AM</td>\n",
       "      <td>Norte</td>\n",
       "      <td>0</td>\n",
       "      <td>0</td>\n",
       "    </tr>\n",
       "  </tbody>\n",
       "</table>\n",
       "</div>"
      ],
      "text/plain": [
       "       nome sigla    regiao  codigo  id_regiao\n",
       "0      Acre    AC     Norte       0          0\n",
       "1   Alagoas    AL  Nordeste       0          0\n",
       "2     Amapá    AP     Norte       0          0\n",
       "3  Amazonas    AM     Norte       0          0"
      ]
     },
     "execution_count": 14,
     "metadata": {},
     "output_type": "execute_result"
    }
   ],
   "source": [
    "import pandas\n",
    "estados_df = pandas.read_csv(data_path.joinpath('detalhes_estados.csv'))\n",
    "estados_df[:4]"
   ]
  },
  {
   "cell_type": "code",
   "execution_count": 15,
   "metadata": {
    "collapsed": true
   },
   "outputs": [],
   "source": [
    "for estado, urls in zips_estados.items():\n",
    "    \n",
    "    dir_fname = ibge_path.joinpath('{}_municipios'.format(estado.lower()))\n",
    "    shp_fname = [fname.basename() for fname in dir_fname.glob('*.shp') if fname.lower().endswith('shp')][0]\n",
    "    codigo = shp_fname[:2]\n",
    "    \n",
    "    estados_df = estados_df.set_value(estados_df['sigla'] == estado, 'codigo', codigo)"
   ]
  },
  {
   "cell_type": "code",
   "execution_count": 16,
   "metadata": {
    "collapsed": true
   },
   "outputs": [],
   "source": [
    "estados_df['id_regiao'] = estados_df['regiao'].map(lambda regiao: regioes[regiao])\n",
    "estados_df['id_geometria'] = id_geometria_invalida"
   ]
  },
  {
   "cell_type": "code",
   "execution_count": 17,
   "metadata": {},
   "outputs": [
    {
     "data": {
      "text/html": [
       "<div>\n",
       "<style>\n",
       "    .dataframe thead tr:only-child th {\n",
       "        text-align: right;\n",
       "    }\n",
       "\n",
       "    .dataframe thead th {\n",
       "        text-align: left;\n",
       "    }\n",
       "\n",
       "    .dataframe tbody tr th {\n",
       "        vertical-align: top;\n",
       "    }\n",
       "</style>\n",
       "<table border=\"1\" class=\"dataframe\">\n",
       "  <thead>\n",
       "    <tr style=\"text-align: right;\">\n",
       "      <th></th>\n",
       "      <th>nome</th>\n",
       "      <th>sigla</th>\n",
       "      <th>regiao</th>\n",
       "      <th>codigo</th>\n",
       "      <th>id_regiao</th>\n",
       "      <th>id_geometria</th>\n",
       "    </tr>\n",
       "  </thead>\n",
       "  <tbody>\n",
       "    <tr>\n",
       "      <th>0</th>\n",
       "      <td>Acre</td>\n",
       "      <td>AC</td>\n",
       "      <td>Norte</td>\n",
       "      <td>12</td>\n",
       "      <td>9</td>\n",
       "      <td>342563</td>\n",
       "    </tr>\n",
       "    <tr>\n",
       "      <th>1</th>\n",
       "      <td>Alagoas</td>\n",
       "      <td>AL</td>\n",
       "      <td>Nordeste</td>\n",
       "      <td>27</td>\n",
       "      <td>8</td>\n",
       "      <td>342563</td>\n",
       "    </tr>\n",
       "    <tr>\n",
       "      <th>2</th>\n",
       "      <td>Amapá</td>\n",
       "      <td>AP</td>\n",
       "      <td>Norte</td>\n",
       "      <td>16</td>\n",
       "      <td>9</td>\n",
       "      <td>342563</td>\n",
       "    </tr>\n",
       "    <tr>\n",
       "      <th>3</th>\n",
       "      <td>Amazonas</td>\n",
       "      <td>AM</td>\n",
       "      <td>Norte</td>\n",
       "      <td>13</td>\n",
       "      <td>9</td>\n",
       "      <td>342563</td>\n",
       "    </tr>\n",
       "    <tr>\n",
       "      <th>4</th>\n",
       "      <td>Bahia</td>\n",
       "      <td>BA</td>\n",
       "      <td>Nordeste</td>\n",
       "      <td>29</td>\n",
       "      <td>8</td>\n",
       "      <td>342563</td>\n",
       "    </tr>\n",
       "    <tr>\n",
       "      <th>5</th>\n",
       "      <td>Ceará</td>\n",
       "      <td>CE</td>\n",
       "      <td>Nordeste</td>\n",
       "      <td>23</td>\n",
       "      <td>8</td>\n",
       "      <td>342563</td>\n",
       "    </tr>\n",
       "    <tr>\n",
       "      <th>6</th>\n",
       "      <td>Distrito Federal</td>\n",
       "      <td>DF</td>\n",
       "      <td>Centro-Oeste</td>\n",
       "      <td>53</td>\n",
       "      <td>6</td>\n",
       "      <td>342563</td>\n",
       "    </tr>\n",
       "    <tr>\n",
       "      <th>7</th>\n",
       "      <td>Espírito Santo</td>\n",
       "      <td>ES</td>\n",
       "      <td>Sudeste</td>\n",
       "      <td>32</td>\n",
       "      <td>10</td>\n",
       "      <td>342563</td>\n",
       "    </tr>\n",
       "    <tr>\n",
       "      <th>8</th>\n",
       "      <td>Goiás</td>\n",
       "      <td>GO</td>\n",
       "      <td>Centro-Oeste</td>\n",
       "      <td>52</td>\n",
       "      <td>6</td>\n",
       "      <td>342563</td>\n",
       "    </tr>\n",
       "    <tr>\n",
       "      <th>9</th>\n",
       "      <td>Maranhão</td>\n",
       "      <td>MA</td>\n",
       "      <td>Nordeste</td>\n",
       "      <td>21</td>\n",
       "      <td>8</td>\n",
       "      <td>342563</td>\n",
       "    </tr>\n",
       "    <tr>\n",
       "      <th>10</th>\n",
       "      <td>Mato Grosso</td>\n",
       "      <td>MT</td>\n",
       "      <td>Centro-Oeste</td>\n",
       "      <td>51</td>\n",
       "      <td>6</td>\n",
       "      <td>342563</td>\n",
       "    </tr>\n",
       "    <tr>\n",
       "      <th>11</th>\n",
       "      <td>Mato Grosso do Sul</td>\n",
       "      <td>MS</td>\n",
       "      <td>Centro-Oeste</td>\n",
       "      <td>50</td>\n",
       "      <td>6</td>\n",
       "      <td>342563</td>\n",
       "    </tr>\n",
       "    <tr>\n",
       "      <th>12</th>\n",
       "      <td>Minas Gerais</td>\n",
       "      <td>MG</td>\n",
       "      <td>Sudeste</td>\n",
       "      <td>31</td>\n",
       "      <td>10</td>\n",
       "      <td>342563</td>\n",
       "    </tr>\n",
       "    <tr>\n",
       "      <th>13</th>\n",
       "      <td>Pará</td>\n",
       "      <td>PA</td>\n",
       "      <td>Norte</td>\n",
       "      <td>15</td>\n",
       "      <td>9</td>\n",
       "      <td>342563</td>\n",
       "    </tr>\n",
       "    <tr>\n",
       "      <th>14</th>\n",
       "      <td>Paraíba</td>\n",
       "      <td>PB</td>\n",
       "      <td>Nordeste</td>\n",
       "      <td>25</td>\n",
       "      <td>8</td>\n",
       "      <td>342563</td>\n",
       "    </tr>\n",
       "    <tr>\n",
       "      <th>15</th>\n",
       "      <td>Paraná</td>\n",
       "      <td>PR</td>\n",
       "      <td>Sul</td>\n",
       "      <td>41</td>\n",
       "      <td>7</td>\n",
       "      <td>342563</td>\n",
       "    </tr>\n",
       "    <tr>\n",
       "      <th>16</th>\n",
       "      <td>Pernambuco</td>\n",
       "      <td>PE</td>\n",
       "      <td>Nordeste</td>\n",
       "      <td>26</td>\n",
       "      <td>8</td>\n",
       "      <td>342563</td>\n",
       "    </tr>\n",
       "    <tr>\n",
       "      <th>17</th>\n",
       "      <td>Piauí</td>\n",
       "      <td>PI</td>\n",
       "      <td>Nordeste</td>\n",
       "      <td>22</td>\n",
       "      <td>8</td>\n",
       "      <td>342563</td>\n",
       "    </tr>\n",
       "    <tr>\n",
       "      <th>18</th>\n",
       "      <td>Rio de Janeiro</td>\n",
       "      <td>RJ</td>\n",
       "      <td>Sudeste</td>\n",
       "      <td>33</td>\n",
       "      <td>10</td>\n",
       "      <td>342563</td>\n",
       "    </tr>\n",
       "    <tr>\n",
       "      <th>19</th>\n",
       "      <td>Rio Grande do Norte</td>\n",
       "      <td>RN</td>\n",
       "      <td>Nordeste</td>\n",
       "      <td>24</td>\n",
       "      <td>8</td>\n",
       "      <td>342563</td>\n",
       "    </tr>\n",
       "    <tr>\n",
       "      <th>20</th>\n",
       "      <td>Rio Grande do Sul</td>\n",
       "      <td>RS</td>\n",
       "      <td>Sul</td>\n",
       "      <td>43</td>\n",
       "      <td>7</td>\n",
       "      <td>342563</td>\n",
       "    </tr>\n",
       "    <tr>\n",
       "      <th>21</th>\n",
       "      <td>Rondônia</td>\n",
       "      <td>RO</td>\n",
       "      <td>Norte</td>\n",
       "      <td>11</td>\n",
       "      <td>9</td>\n",
       "      <td>342563</td>\n",
       "    </tr>\n",
       "    <tr>\n",
       "      <th>22</th>\n",
       "      <td>Roraima</td>\n",
       "      <td>RR</td>\n",
       "      <td>Norte</td>\n",
       "      <td>14</td>\n",
       "      <td>9</td>\n",
       "      <td>342563</td>\n",
       "    </tr>\n",
       "    <tr>\n",
       "      <th>23</th>\n",
       "      <td>Santa Catarina</td>\n",
       "      <td>SC</td>\n",
       "      <td>Sul</td>\n",
       "      <td>42</td>\n",
       "      <td>7</td>\n",
       "      <td>342563</td>\n",
       "    </tr>\n",
       "    <tr>\n",
       "      <th>24</th>\n",
       "      <td>São Paulo</td>\n",
       "      <td>SP</td>\n",
       "      <td>Sudeste</td>\n",
       "      <td>35</td>\n",
       "      <td>10</td>\n",
       "      <td>342563</td>\n",
       "    </tr>\n",
       "    <tr>\n",
       "      <th>25</th>\n",
       "      <td>Sergipe</td>\n",
       "      <td>SE</td>\n",
       "      <td>Nordeste</td>\n",
       "      <td>28</td>\n",
       "      <td>8</td>\n",
       "      <td>342563</td>\n",
       "    </tr>\n",
       "    <tr>\n",
       "      <th>26</th>\n",
       "      <td>Tocantins</td>\n",
       "      <td>TO</td>\n",
       "      <td>Norte</td>\n",
       "      <td>17</td>\n",
       "      <td>9</td>\n",
       "      <td>342563</td>\n",
       "    </tr>\n",
       "  </tbody>\n",
       "</table>\n",
       "</div>"
      ],
      "text/plain": [
       "                   nome sigla        regiao codigo  id_regiao  id_geometria\n",
       "0                  Acre    AC         Norte     12          9        342563\n",
       "1               Alagoas    AL      Nordeste     27          8        342563\n",
       "2                 Amapá    AP         Norte     16          9        342563\n",
       "3              Amazonas    AM         Norte     13          9        342563\n",
       "4                 Bahia    BA      Nordeste     29          8        342563\n",
       "5                 Ceará    CE      Nordeste     23          8        342563\n",
       "6      Distrito Federal    DF  Centro-Oeste     53          6        342563\n",
       "7        Espírito Santo    ES       Sudeste     32         10        342563\n",
       "8                 Goiás    GO  Centro-Oeste     52          6        342563\n",
       "9              Maranhão    MA      Nordeste     21          8        342563\n",
       "10          Mato Grosso    MT  Centro-Oeste     51          6        342563\n",
       "11   Mato Grosso do Sul    MS  Centro-Oeste     50          6        342563\n",
       "12         Minas Gerais    MG       Sudeste     31         10        342563\n",
       "13                 Pará    PA         Norte     15          9        342563\n",
       "14              Paraíba    PB      Nordeste     25          8        342563\n",
       "15               Paraná    PR           Sul     41          7        342563\n",
       "16           Pernambuco    PE      Nordeste     26          8        342563\n",
       "17                Piauí    PI      Nordeste     22          8        342563\n",
       "18       Rio de Janeiro    RJ       Sudeste     33         10        342563\n",
       "19  Rio Grande do Norte    RN      Nordeste     24          8        342563\n",
       "20    Rio Grande do Sul    RS           Sul     43          7        342563\n",
       "21             Rondônia    RO         Norte     11          9        342563\n",
       "22              Roraima    RR         Norte     14          9        342563\n",
       "23       Santa Catarina    SC           Sul     42          7        342563\n",
       "24            São Paulo    SP       Sudeste     35         10        342563\n",
       "25              Sergipe    SE      Nordeste     28          8        342563\n",
       "26            Tocantins    TO         Norte     17          9        342563"
      ]
     },
     "execution_count": 17,
     "metadata": {},
     "output_type": "execute_result"
    }
   ],
   "source": [
    "estados_df"
   ]
  },
  {
   "cell_type": "code",
   "execution_count": 18,
   "metadata": {},
   "outputs": [
    {
     "data": {
      "text/plain": [
       "<sqlalchemy.engine.result.ResultProxy at 0x7f950ac902e8>"
      ]
     },
     "execution_count": 18,
     "metadata": {},
     "output_type": "execute_result"
    }
   ],
   "source": [
    "estados_sql = estados_df.drop(['regiao'], axis=1).to_dict(orient='records')\n",
    "\n",
    "con.execute(db_schema.Estado.__table__.insert(), estados_sql)"
   ]
  },
  {
   "cell_type": "code",
   "execution_count": 19,
   "metadata": {
    "collapsed": true
   },
   "outputs": [],
   "source": [
    "session = SessionMaker()\n",
    "estados_codigos = {estado.codigo: estado.id\n",
    "                   for estado in session.query(db_schema.Estado)}"
   ]
  },
  {
   "cell_type": "code",
   "execution_count": 20,
   "metadata": {},
   "outputs": [
    {
     "data": {
      "text/plain": [
       "{'11': 49,\n",
       " '12': 28,\n",
       " '13': 31,\n",
       " '14': 50,\n",
       " '15': 41,\n",
       " '16': 30,\n",
       " '17': 54,\n",
       " '21': 37,\n",
       " '22': 45,\n",
       " '23': 33,\n",
       " '24': 47,\n",
       " '25': 42,\n",
       " '26': 44,\n",
       " '27': 29,\n",
       " '28': 53,\n",
       " '29': 32,\n",
       " '31': 40,\n",
       " '32': 35,\n",
       " '33': 46,\n",
       " '35': 52,\n",
       " '41': 43,\n",
       " '42': 51,\n",
       " '43': 48,\n",
       " '50': 39,\n",
       " '51': 38,\n",
       " '52': 36,\n",
       " '53': 34}"
      ]
     },
     "execution_count": 20,
     "metadata": {},
     "output_type": "execute_result"
    }
   ],
   "source": [
    "estados_codigos"
   ]
  },
  {
   "cell_type": "markdown",
   "metadata": {},
   "source": [
    "## Extrair os códigos e nomes de todas as subdivisões"
   ]
  },
  {
   "cell_type": "code",
   "execution_count": 21,
   "metadata": {
    "collapsed": true
   },
   "outputs": [],
   "source": [
    "campos = {\n",
    "    'municipios': {'ibge_codigo': 'CD_GEOCODM', 'ibge_nome': 'NM_MUNICIP',\n",
    "                   'db_nome': 'nome'},\n",
    "    'distritos': {'ibge_codigo': 'CD_GEOCODD', 'ibge_nome': 'NM_DISTRIT',\n",
    "                  'db_nome': 'nome'},\n",
    "    'subdistritos': {'ibge_codigo': 'CD_GEOCODS', 'ibge_nome': 'NM_SUBDIST',\n",
    "                     'db_nome': 'nome'},\n",
    "    'setores': {'ibge_codigo': 'CD_GEOCODI', 'ibge_nome': 'NM_BAIRRO',\n",
    "                'db_nome': 'bairro'}\n",
    "}"
   ]
  },
  {
   "cell_type": "code",
   "execution_count": null,
   "metadata": {
    "collapsed": true
   },
   "outputs": [],
   "source": [
    "import geopandas\n",
    "\n",
    "pbar = tqdm_notebook(total=27, desc='Obtendo')\n",
    "\n",
    "for estado, info in zips_estados.items():\n",
    "    estado_info = {}\n",
    "    \n",
    "    if ibge_path.joinpath(estado+'.json').isfile():\n",
    "        pbar.update(1)\n",
    "        continue\n",
    "    \n",
    "    for divisao, path in info.items():\n",
    "        dir_fname = ibge_path.joinpath('{}_{}'.format(estado.lower(), divisao))\n",
    "        shp_fname = [fname for fname in dir_fname.glob('*.shp') if fname.lower().endswith('shp')][0]\n",
    "        \n",
    "        df = geopandas.read_file(shp_fname)\n",
    "        \n",
    "        ibge_codigos = list(map(str, df[campos[divisao]['ibge_codigo']]))\n",
    "        ibge_nomes = list(map(str, df[campos[divisao]['ibge_nome']]))\n",
    "        \n",
    "        estado_info[divisao] = [\n",
    "            dict(zip(['codigo', campos[divisao]['db_nome']], item))\n",
    "            for item in zip(ibge_codigos, ibge_nomes)\n",
    "        ]\n",
    "    \n",
    "    with open(ibge_path.joinpath(estado+'.json'), 'w') as fp:\n",
    "        json.dump(estado_info, fp, indent=2)\n",
    "    \n",
    "    pbar.update(1)\n",
    "\n",
    "pbar.close()"
   ]
  },
  {
   "cell_type": "markdown",
   "metadata": {},
   "source": [
    "## Inserir os municípios"
   ]
  },
  {
   "cell_type": "code",
   "execution_count": 23,
   "metadata": {},
   "outputs": [
    {
     "data": {
      "text/plain": [
       "A Jupyter Widget"
      ]
     },
     "metadata": {},
     "output_type": "display_data"
    },
    {
     "name": "stdout",
     "output_type": "stream",
     "text": [
      "\n"
     ]
    }
   ],
   "source": [
    "from tqdm import tqdm_notebook\n",
    "import json\n",
    "\n",
    "municipios_sem_geometria = []\n",
    "\n",
    "for estado_path in tqdm_notebook(ibge_path.glob('*.json')):\n",
    "    estado = estado_path.basename().splitext()[0]\n",
    "    with open(estado_path) as fp:\n",
    "        estado_info = json.load(fp)\n",
    "    \n",
    "    municipios_estado = estado_info['municipios']\n",
    "    municipios_estado_sql = []\n",
    "    \n",
    "    for municipio in municipios_estado:\n",
    "        municipio['id_estado'] = estados_codigos[municipio['codigo'][:2]]\n",
    "        codigo_municipio = municipio['codigo']\n",
    "        try:\n",
    "            id_geometria = geo_codes[codigo_municipio]\n",
    "        except KeyError:\n",
    "            id_geometria = id_geometria_invalida\n",
    "        municipio['id_geometria'] = id_geometria\n",
    "        if id_geometria == id_geometria_invalida:\n",
    "            municipios_sem_geometria.append(municipio)\n",
    "        municipios_estado_sql.append(municipio)\n",
    "    \n",
    "    con.execute(db_schema.Municipio.__table__.insert(), municipios_estado_sql)\n",
    "\n",
    "with open(data_path.joinpath('sem-geometria-municipios.json'), 'w') as fp:\n",
    "    json.dump(municipios_sem_geometria, fp, indent=2)"
   ]
  },
  {
   "cell_type": "code",
   "execution_count": 36,
   "metadata": {},
   "outputs": [
    {
     "data": {
      "text/plain": [
       "5567"
      ]
     },
     "execution_count": 36,
     "metadata": {},
     "output_type": "execute_result"
    }
   ],
   "source": [
    "session = SessionMaker()\n",
    "municipios_codigos = {mun.codigo: mun.id for mun in session.query(db_schema.Municipio)}\n",
    "len(municipios_codigos)"
   ]
  },
  {
   "cell_type": "markdown",
   "metadata": {},
   "source": [
    "## Inserir os distritos"
   ]
  },
  {
   "cell_type": "code",
   "execution_count": 25,
   "metadata": {},
   "outputs": [
    {
     "data": {
      "text/plain": [
       "7"
      ]
     },
     "execution_count": 25,
     "metadata": {},
     "output_type": "execute_result"
    }
   ],
   "source": [
    "len(list(municipios_codigos)[0])"
   ]
  },
  {
   "cell_type": "code",
   "execution_count": 26,
   "metadata": {},
   "outputs": [
    {
     "data": {
      "text/plain": [
       "A Jupyter Widget"
      ]
     },
     "metadata": {},
     "output_type": "display_data"
    },
    {
     "name": "stdout",
     "output_type": "stream",
     "text": [
      "\n"
     ]
    }
   ],
   "source": [
    "distritos_sem_geometria = []\n",
    "\n",
    "for estado_path in tqdm_notebook(ibge_path.glob('*.json')):\n",
    "    estado = estado_path.basename().splitext()[0]\n",
    "    with open(estado_path) as fp:\n",
    "        estado_info = json.load(fp)\n",
    "    \n",
    "    distritos_estado = estado_info['distritos']\n",
    "    distrito_estado_sql = []\n",
    "    \n",
    "    for distrito in distritos_estado:\n",
    "        distrito['id_municipio'] = municipios_codigos[distrito['codigo'][:7]]\n",
    "        codigo_distrito = distrito['codigo']\n",
    "        try:\n",
    "            id_geometria = geo_codes[distrito['codigo']]\n",
    "        except KeyError:\n",
    "            id_geometria = id_geometria_invalida\n",
    "        distrito['id_geometria'] = id_geometria\n",
    "        if id_geometria == id_geometria_invalida:\n",
    "            distritos_sem_geometria.append(distrito)\n",
    "        distrito_estado_sql.append(distrito)\n",
    "    \n",
    "    con.execute(db_schema.Distrito.__table__.insert(), distrito_estado_sql)\n",
    "\n",
    "with open(data_path.joinpath('sem-geometria-distritos.json'), 'w') as fp:\n",
    "    json.dump(distritos_sem_geometria, fp, indent=2)"
   ]
  },
  {
   "cell_type": "code",
   "execution_count": 35,
   "metadata": {},
   "outputs": [
    {
     "data": {
      "text/plain": [
       "10283"
      ]
     },
     "execution_count": 35,
     "metadata": {},
     "output_type": "execute_result"
    }
   ],
   "source": [
    "session = SessionMaker()\n",
    "distritos_codigos = {dis.codigo: dis.id for dis in session.query(db_schema.Distrito)}\n",
    "len(distritos_codigos)"
   ]
  },
  {
   "cell_type": "markdown",
   "metadata": {},
   "source": [
    "## Inserir os subdistritos"
   ]
  },
  {
   "cell_type": "code",
   "execution_count": 28,
   "metadata": {},
   "outputs": [
    {
     "data": {
      "text/plain": [
       "9"
      ]
     },
     "execution_count": 28,
     "metadata": {},
     "output_type": "execute_result"
    }
   ],
   "source": [
    "len(list(distritos_codigos)[0])"
   ]
  },
  {
   "cell_type": "code",
   "execution_count": 29,
   "metadata": {},
   "outputs": [
    {
     "data": {
      "text/plain": [
       "A Jupyter Widget"
      ]
     },
     "metadata": {},
     "output_type": "display_data"
    },
    {
     "name": "stdout",
     "output_type": "stream",
     "text": [
      "\n"
     ]
    }
   ],
   "source": [
    "subdistritos_sem_geometria = []\n",
    "\n",
    "for estado_path in tqdm_notebook(ibge_path.glob('*.json')):\n",
    "    estado = estado_path.basename().splitext()[0]\n",
    "    with open(estado_path) as fp:\n",
    "        estado_info = json.load(fp)\n",
    "    \n",
    "    subdistritos_estado = estado_info['subdistritos']\n",
    "    subdistrito_estado_sql = []\n",
    "    \n",
    "    for subdistrito in subdistritos_estado:\n",
    "        subdistrito['id_distrito'] = distritos_codigos[subdistrito['codigo'][:9]]\n",
    "        codigo_subdistrito = subdistrito['codigo']\n",
    "        \n",
    "        try:\n",
    "            id_geometria = geo_codes[codigo_subdistrito]\n",
    "        except KeyError:\n",
    "            id_geometria = id_geometria_invalida\n",
    "        subdistrito['id_geometria'] = id_geometria\n",
    "        if id_geometria == id_geometria_invalida:\n",
    "            subdistritos_sem_geometria.append(subdistrito)\n",
    "        subdistrito_estado_sql.append(subdistrito)\n",
    "    \n",
    "    con.execute(db_schema.Subdistrito.__table__.insert(), subdistrito_estado_sql)\n",
    "\n",
    "with open(data_path.joinpath('sem-geometria-subdistritos.json'), 'w') as fp:\n",
    "    json.dump(subdistritos_sem_geometria, fp, indent=2)"
   ]
  },
  {
   "cell_type": "code",
   "execution_count": 4,
   "metadata": {},
   "outputs": [
    {
     "data": {
      "text/plain": [
       "10908"
      ]
     },
     "execution_count": 4,
     "metadata": {},
     "output_type": "execute_result"
    }
   ],
   "source": [
    "session = SessionMaker()\n",
    "subdistritos_codigos = {subdis.codigo: subdis.id for subdis in session.query(db_schema.Subdistrito)}\n",
    "len(subdistritos_codigos)"
   ]
  },
  {
   "cell_type": "markdown",
   "metadata": {},
   "source": [
    "## Inserir os setores"
   ]
  },
  {
   "cell_type": "code",
   "execution_count": 5,
   "metadata": {},
   "outputs": [
    {
     "data": {
      "text/plain": [
       "11"
      ]
     },
     "execution_count": 5,
     "metadata": {},
     "output_type": "execute_result"
    }
   ],
   "source": [
    "len(list(subdistritos_codigos)[0])"
   ]
  },
  {
   "cell_type": "code",
   "execution_count": 13,
   "metadata": {},
   "outputs": [
    {
     "data": {
      "text/plain": [
       "A Jupyter Widget"
      ]
     },
     "metadata": {},
     "output_type": "display_data"
    },
    {
     "name": "stdout",
     "output_type": "stream",
     "text": [
      "\n",
      "\n"
     ]
    }
   ],
   "source": [
    "from tqdm import tqdm_notebook\n",
    "setores_sem_geometria = []\n",
    "\n",
    "for estado_path in tqdm_notebook(ibge_path.glob('*.json')):\n",
    "    estado = estado_path.basename().splitext()[0]\n",
    "    with open(estado_path) as fp:\n",
    "        estado_info = json.load(fp)\n",
    "    \n",
    "    setores_estado = estado_info['setores']\n",
    "    setor_estado_sql = []\n",
    "    \n",
    "    for setor in setores_estado:\n",
    "        setor['id_subdistrito'] = subdistritos_codigos[setor['codigo'][:11]]\n",
    "        codigo_setor = setor['codigo']\n",
    "        try:\n",
    "            id_geometria = geo_codes[codigo_setor]\n",
    "        except KeyError:\n",
    "            id_geometria = id_geometria_invalida\n",
    "        setor['id_geometria'] = id_geometria\n",
    "        if id_geometria == id_geometria_invalida:\n",
    "            setores_sem_geometria.append(setor)\n",
    "        else:\n",
    "            # Não faz sentido ter setores sem geometria\n",
    "            setor_estado_sql.append(setor)\n",
    "    \n",
    "    con.execute(db_schema.Setor.__table__.insert(), setor_estado_sql)\n",
    "    \n",
    "with open(data_path.joinpath('sem-geometria-setores.json'), 'w') as fp:\n",
    "    json.dump(setores_sem_geometria, fp, indent=2)"
   ]
  },
  {
   "cell_type": "code",
   "execution_count": 14,
   "metadata": {},
   "outputs": [
    {
     "data": {
      "text/plain": [
       "316155"
      ]
     },
     "execution_count": 14,
     "metadata": {},
     "output_type": "execute_result"
    }
   ],
   "source": [
    "session = SessionMaker()\n",
    "setores_codigos = {setor.codigo: setor.id for setor in session.query(db_schema.Setor)}\n",
    "len(setores_codigos)"
   ]
  },
  {
   "cell_type": "code",
   "execution_count": 15,
   "metadata": {},
   "outputs": [
    {
     "data": {
      "text/plain": [
       "419"
      ]
     },
     "execution_count": 15,
     "metadata": {},
     "output_type": "execute_result"
    }
   ],
   "source": [
    "len(setores_sem_geometria)"
   ]
  },
  {
   "cell_type": "code",
   "execution_count": null,
   "metadata": {
    "collapsed": true
   },
   "outputs": [],
   "source": []
  }
 ],
 "metadata": {
  "kernelspec": {
   "display_name": "Python 3",
   "language": "python",
   "name": "python3"
  },
  "language_info": {
   "codemirror_mode": {
    "name": "ipython",
    "version": 3
   },
   "file_extension": ".py",
   "mimetype": "text/x-python",
   "name": "python",
   "nbconvert_exporter": "python",
   "pygments_lexer": "ipython3",
   "version": "3.6.5"
  }
 },
 "nbformat": 4,
 "nbformat_minor": 2
}
